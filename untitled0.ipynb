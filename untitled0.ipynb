{
  "nbformat": 4,
  "nbformat_minor": 0,
  "metadata": {
    "colab": {
      "provenance": [],
      "authorship_tag": "ABX9TyONK0o8kj5PhQ/IaPKqI+1U",
      "include_colab_link": true
    },
    "kernelspec": {
      "name": "python3",
      "display_name": "Python 3"
    },
    "language_info": {
      "name": "python"
    }
  },
  "cells": [
    {
      "cell_type": "markdown",
      "metadata": {
        "id": "view-in-github",
        "colab_type": "text"
      },
      "source": [
        "<a href=\"https://colab.research.google.com/github/zantblue/Algoritma-Pemograman-Praktek/blob/main/untitled0.ipynb\" target=\"_parent\"><img src=\"https://colab.research.google.com/assets/colab-badge.svg\" alt=\"Open In Colab\"/></a>"
      ]
    },
    {
      "cell_type": "code",
      "source": [
        "class Anjing:\n",
        "    def __init__(self, nama, umur, warna):\n",
        "        self.nama = nama\n",
        "        self.umur = umur\n",
        "        self.warna = warna\n",
        "\n",
        "    def menggonggong(self):\n",
        "        print(\"Aauu... Auuuu..\")\n",
        "\n",
        "    def info(self):\n",
        "        print(\"Nama Anjing=\" + self.nama +\",umurnya = \"+ str(self.umur)+\" tahun, warnanya = \"+str(self.warna))\n",
        "\n",
        "    def run(self):\n",
        "        print(\"MMMWIIINNGGGG!!!\")"
      ],
      "metadata": {
        "id": "N9oaxt7hZ1Lc"
      },
      "execution_count": null,
      "outputs": []
    },
    {
      "cell_type": "code",
      "source": [],
      "metadata": {
        "id": "2-swL3lKajKC"
      },
      "execution_count": null,
      "outputs": []
    }
  ]
}